{
  "nbformat": 4,
  "nbformat_minor": 0,
  "metadata": {
    "colab": {
      "name": "Untitled1.ipynb",
      "version": "0.3.2",
      "views": {},
      "default_view": {},
      "provenance": []
    },
    "kernelspec": {
      "display_name": "Python 3",
      "language": "python",
      "name": "python3"
    },
    "accelerator": "GPU"
  },
  "cells": [
    {
      "metadata": {
        "id": "Ovz16R4RScsO",
        "colab_type": "code",
        "colab": {
          "autoexec": {
            "startup": false,
            "wait_interval": 0
          }
        }
      },
      "cell_type": "code",
      "source": [
        "import pandas as pd\n",
        "import numpy as np\n",
        "import matplotlib.pyplot as plt\n",
        "import seaborn as ses\n",
        "%matplotlib inline"
      ],
      "execution_count": 0,
      "outputs": []
    },
    {
      "metadata": {
        "id": "oCl3XDeWTSYZ",
        "colab_type": "code",
        "colab": {
          "autoexec": {
            "startup": false,
            "wait_interval": 0
          },
          "resources": {
            "http://localhost:8080/nbextensions/google.colab/files.js": {
              "data": "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",
              "ok": true,
              "headers": [
                [
                  "content-type",
                  "application/javascript"
                ]
              ],
              "status": 200,
              "status_text": ""
            }
          },
          "base_uri": "https://localhost:8080/",
          "height": 72
        },
        "outputId": "4e51ba7d-e35b-4499-87e1-a5d392a76f13",
        "executionInfo": {
          "status": "ok",
          "timestamp": 1533185415832,
          "user_tz": -330,
          "elapsed": 695093,
          "user": {
            "displayName": "mohan vamsi",
            "photoUrl": "//lh3.googleusercontent.com/-H0mIvmQlpQE/AAAAAAAAAAI/AAAAAAAAAF0/4uLmMATMtAc/s50-c-k-no/photo.jpg",
            "userId": "100784954602535716573"
          }
        }
      },
      "cell_type": "code",
      "source": [
        "from google.colab import files\n",
        "uploaded = files.upload()"
      ],
      "execution_count": 72,
      "outputs": [
        {
          "output_type": "display_data",
          "data": {
            "text/html": [
              "\n",
              "     <input type=\"file\" id=\"files-fc3e60bf-d5cb-4d19-b82c-d12809a3cf80\" name=\"files[]\" multiple disabled />\n",
              "     <output id=\"result-fc3e60bf-d5cb-4d19-b82c-d12809a3cf80\">\n",
              "      Upload widget is only available when the cell has been executed in the\n",
              "      current browser session. Please rerun this cell to enable.\n",
              "      </output>\n",
              "      <script src=\"/nbextensions/google.colab/files.js\"></script> "
            ],
            "text/plain": [
              "<IPython.core.display.HTML object>"
            ]
          },
          "metadata": {
            "tags": []
          }
        },
        {
          "output_type": "stream",
          "text": [
            "Saving train.csv to train (1).csv\n"
          ],
          "name": "stdout"
        }
      ]
    },
    {
      "metadata": {
        "id": "JkmNgnLuScsV",
        "colab_type": "code",
        "colab": {
          "autoexec": {
            "startup": false,
            "wait_interval": 0
          }
        }
      },
      "cell_type": "code",
      "source": [
        "import io\n",
        "data=pd.read_csv(io.StringIO(uploaded['train.csv'].decode('utf-8')))"
      ],
      "execution_count": 0,
      "outputs": []
    },
    {
      "metadata": {
        "id": "VcZbKrXS8j-w",
        "colab_type": "code",
        "colab": {
          "autoexec": {
            "startup": false,
            "wait_interval": 0
          }
        }
      },
      "cell_type": "code",
      "source": [
        "data_temp=data.copy()"
      ],
      "execution_count": 0,
      "outputs": []
    },
    {
      "metadata": {
        "id": "NfSdFT7mP8Kn",
        "colab_type": "code",
        "colab": {
          "autoexec": {
            "startup": false,
            "wait_interval": 0
          }
        }
      },
      "cell_type": "code",
      "source": [
        "data=data_temp"
      ],
      "execution_count": 0,
      "outputs": []
    },
    {
      "metadata": {
        "id": "9y7inU3nScsc",
        "colab_type": "code",
        "colab": {
          "autoexec": {
            "startup": false,
            "wait_interval": 0
          },
          "base_uri": "https://localhost:8080/",
          "height": 233
        },
        "outputId": "4f915e91-fce7-4cb1-e641-e3af4e0ca683",
        "executionInfo": {
          "status": "ok",
          "timestamp": 1533190075159,
          "user_tz": -330,
          "elapsed": 847,
          "user": {
            "displayName": "mohan vamsi",
            "photoUrl": "//lh3.googleusercontent.com/-H0mIvmQlpQE/AAAAAAAAAAI/AAAAAAAAAF0/4uLmMATMtAc/s50-c-k-no/photo.jpg",
            "userId": "100784954602535716573"
          }
        }
      },
      "cell_type": "code",
      "source": [
        "data.head()"
      ],
      "execution_count": 135,
      "outputs": [
        {
          "output_type": "execute_result",
          "data": {
            "text/html": [
              "<div>\n",
              "<style scoped>\n",
              "    .dataframe tbody tr th:only-of-type {\n",
              "        vertical-align: middle;\n",
              "    }\n",
              "\n",
              "    .dataframe tbody tr th {\n",
              "        vertical-align: top;\n",
              "    }\n",
              "\n",
              "    .dataframe thead th {\n",
              "        text-align: right;\n",
              "    }\n",
              "</style>\n",
              "<table border=\"1\" class=\"dataframe\">\n",
              "  <thead>\n",
              "    <tr style=\"text-align: right;\">\n",
              "      <th></th>\n",
              "      <th>key</th>\n",
              "      <th>v1</th>\n",
              "      <th>v2</th>\n",
              "      <th>v3</th>\n",
              "      <th>v4</th>\n",
              "      <th>v5</th>\n",
              "      <th>v6</th>\n",
              "      <th>v7</th>\n",
              "      <th>v8</th>\n",
              "      <th>v9</th>\n",
              "      <th>...</th>\n",
              "      <th>v46</th>\n",
              "      <th>v47</th>\n",
              "      <th>v48</th>\n",
              "      <th>v49</th>\n",
              "      <th>v50</th>\n",
              "      <th>v51</th>\n",
              "      <th>v52</th>\n",
              "      <th>v53</th>\n",
              "      <th>v54</th>\n",
              "      <th>label</th>\n",
              "    </tr>\n",
              "  </thead>\n",
              "  <tbody>\n",
              "    <tr>\n",
              "      <th>0</th>\n",
              "      <td>447095</td>\n",
              "      <td>3452</td>\n",
              "      <td>111</td>\n",
              "      <td>22</td>\n",
              "      <td>433</td>\n",
              "      <td>214</td>\n",
              "      <td>3677</td>\n",
              "      <td>252</td>\n",
              "      <td>210</td>\n",
              "      <td>74</td>\n",
              "      <td>...</td>\n",
              "      <td>0</td>\n",
              "      <td>0</td>\n",
              "      <td>0</td>\n",
              "      <td>0</td>\n",
              "      <td>0</td>\n",
              "      <td>0</td>\n",
              "      <td>0</td>\n",
              "      <td>1</td>\n",
              "      <td>0</td>\n",
              "      <td>0</td>\n",
              "    </tr>\n",
              "    <tr>\n",
              "      <th>1</th>\n",
              "      <td>113427</td>\n",
              "      <td>3093</td>\n",
              "      <td>95</td>\n",
              "      <td>9</td>\n",
              "      <td>124</td>\n",
              "      <td>7</td>\n",
              "      <td>4115</td>\n",
              "      <td>234</td>\n",
              "      <td>227</td>\n",
              "      <td>124</td>\n",
              "      <td>...</td>\n",
              "      <td>0</td>\n",
              "      <td>0</td>\n",
              "      <td>0</td>\n",
              "      <td>0</td>\n",
              "      <td>0</td>\n",
              "      <td>0</td>\n",
              "      <td>0</td>\n",
              "      <td>0</td>\n",
              "      <td>0</td>\n",
              "      <td>1</td>\n",
              "    </tr>\n",
              "    <tr>\n",
              "      <th>2</th>\n",
              "      <td>66435</td>\n",
              "      <td>2551</td>\n",
              "      <td>61</td>\n",
              "      <td>17</td>\n",
              "      <td>90</td>\n",
              "      <td>5</td>\n",
              "      <td>726</td>\n",
              "      <td>231</td>\n",
              "      <td>202</td>\n",
              "      <td>98</td>\n",
              "      <td>...</td>\n",
              "      <td>0</td>\n",
              "      <td>0</td>\n",
              "      <td>0</td>\n",
              "      <td>0</td>\n",
              "      <td>0</td>\n",
              "      <td>0</td>\n",
              "      <td>0</td>\n",
              "      <td>0</td>\n",
              "      <td>0</td>\n",
              "      <td>1</td>\n",
              "    </tr>\n",
              "    <tr>\n",
              "      <th>3</th>\n",
              "      <td>8957</td>\n",
              "      <td>2944</td>\n",
              "      <td>135</td>\n",
              "      <td>3</td>\n",
              "      <td>430</td>\n",
              "      <td>13</td>\n",
              "      <td>1868</td>\n",
              "      <td>224</td>\n",
              "      <td>238</td>\n",
              "      <td>149</td>\n",
              "      <td>...</td>\n",
              "      <td>0</td>\n",
              "      <td>0</td>\n",
              "      <td>0</td>\n",
              "      <td>0</td>\n",
              "      <td>0</td>\n",
              "      <td>0</td>\n",
              "      <td>0</td>\n",
              "      <td>0</td>\n",
              "      <td>0</td>\n",
              "      <td>1</td>\n",
              "    </tr>\n",
              "    <tr>\n",
              "      <th>4</th>\n",
              "      <td>434631</td>\n",
              "      <td>3030</td>\n",
              "      <td>327</td>\n",
              "      <td>34</td>\n",
              "      <td>277</td>\n",
              "      <td>101</td>\n",
              "      <td>1973</td>\n",
              "      <td>120</td>\n",
              "      <td>181</td>\n",
              "      <td>190</td>\n",
              "      <td>...</td>\n",
              "      <td>0</td>\n",
              "      <td>1</td>\n",
              "      <td>0</td>\n",
              "      <td>0</td>\n",
              "      <td>0</td>\n",
              "      <td>0</td>\n",
              "      <td>0</td>\n",
              "      <td>0</td>\n",
              "      <td>0</td>\n",
              "      <td>1</td>\n",
              "    </tr>\n",
              "  </tbody>\n",
              "</table>\n",
              "<p>5 rows × 56 columns</p>\n",
              "</div>"
            ],
            "text/plain": [
              "      key    v1   v2  v3   v4   v5    v6   v7   v8   v9  ...    v46  v47  v48  \\\n",
              "0  447095  3452  111  22  433  214  3677  252  210   74  ...      0    0    0   \n",
              "1  113427  3093   95   9  124    7  4115  234  227  124  ...      0    0    0   \n",
              "2   66435  2551   61  17   90    5   726  231  202   98  ...      0    0    0   \n",
              "3    8957  2944  135   3  430   13  1868  224  238  149  ...      0    0    0   \n",
              "4  434631  3030  327  34  277  101  1973  120  181  190  ...      0    1    0   \n",
              "\n",
              "   v49  v50  v51  v52  v53  v54  label  \n",
              "0    0    0    0    0    1    0      0  \n",
              "1    0    0    0    0    0    0      1  \n",
              "2    0    0    0    0    0    0      1  \n",
              "3    0    0    0    0    0    0      1  \n",
              "4    0    0    0    0    0    0      1  \n",
              "\n",
              "[5 rows x 56 columns]"
            ]
          },
          "metadata": {
            "tags": []
          },
          "execution_count": 135
        }
      ]
    },
    {
      "metadata": {
        "id": "zqooGG_-QAbX",
        "colab_type": "code",
        "colab": {
          "autoexec": {
            "startup": false,
            "wait_interval": 0
          },
          "base_uri": "https://localhost:8080/",
          "height": 235
        },
        "outputId": "14ea29a3-71f7-469e-a9ec-51a1fb3115a8",
        "executionInfo": {
          "status": "ok",
          "timestamp": 1533190197612,
          "user_tz": -330,
          "elapsed": 909,
          "user": {
            "displayName": "mohan vamsi",
            "photoUrl": "//lh3.googleusercontent.com/-H0mIvmQlpQE/AAAAAAAAAAI/AAAAAAAAAF0/4uLmMATMtAc/s50-c-k-no/photo.jpg",
            "userId": "100784954602535716573"
          }
        }
      },
      "cell_type": "code",
      "source": [
        "data.loc[:5,'v1':'v10']"
      ],
      "execution_count": 144,
      "outputs": [
        {
          "output_type": "execute_result",
          "data": {
            "text/html": [
              "<div>\n",
              "<style scoped>\n",
              "    .dataframe tbody tr th:only-of-type {\n",
              "        vertical-align: middle;\n",
              "    }\n",
              "\n",
              "    .dataframe tbody tr th {\n",
              "        vertical-align: top;\n",
              "    }\n",
              "\n",
              "    .dataframe thead th {\n",
              "        text-align: right;\n",
              "    }\n",
              "</style>\n",
              "<table border=\"1\" class=\"dataframe\">\n",
              "  <thead>\n",
              "    <tr style=\"text-align: right;\">\n",
              "      <th></th>\n",
              "      <th>v1</th>\n",
              "      <th>v2</th>\n",
              "      <th>v3</th>\n",
              "      <th>v4</th>\n",
              "      <th>v5</th>\n",
              "      <th>v6</th>\n",
              "      <th>v7</th>\n",
              "      <th>v8</th>\n",
              "      <th>v9</th>\n",
              "      <th>v10</th>\n",
              "    </tr>\n",
              "  </thead>\n",
              "  <tbody>\n",
              "    <tr>\n",
              "      <th>0</th>\n",
              "      <td>3452</td>\n",
              "      <td>111</td>\n",
              "      <td>22</td>\n",
              "      <td>433</td>\n",
              "      <td>214</td>\n",
              "      <td>3677</td>\n",
              "      <td>252</td>\n",
              "      <td>210</td>\n",
              "      <td>74</td>\n",
              "      <td>3316</td>\n",
              "    </tr>\n",
              "    <tr>\n",
              "      <th>1</th>\n",
              "      <td>3093</td>\n",
              "      <td>95</td>\n",
              "      <td>9</td>\n",
              "      <td>124</td>\n",
              "      <td>7</td>\n",
              "      <td>4115</td>\n",
              "      <td>234</td>\n",
              "      <td>227</td>\n",
              "      <td>124</td>\n",
              "      <td>2930</td>\n",
              "    </tr>\n",
              "    <tr>\n",
              "      <th>2</th>\n",
              "      <td>2551</td>\n",
              "      <td>61</td>\n",
              "      <td>17</td>\n",
              "      <td>90</td>\n",
              "      <td>5</td>\n",
              "      <td>726</td>\n",
              "      <td>231</td>\n",
              "      <td>202</td>\n",
              "      <td>98</td>\n",
              "      <td>751</td>\n",
              "    </tr>\n",
              "    <tr>\n",
              "      <th>3</th>\n",
              "      <td>2944</td>\n",
              "      <td>135</td>\n",
              "      <td>3</td>\n",
              "      <td>430</td>\n",
              "      <td>13</td>\n",
              "      <td>1868</td>\n",
              "      <td>224</td>\n",
              "      <td>238</td>\n",
              "      <td>149</td>\n",
              "      <td>1199</td>\n",
              "    </tr>\n",
              "    <tr>\n",
              "      <th>4</th>\n",
              "      <td>3030</td>\n",
              "      <td>327</td>\n",
              "      <td>34</td>\n",
              "      <td>277</td>\n",
              "      <td>101</td>\n",
              "      <td>1973</td>\n",
              "      <td>120</td>\n",
              "      <td>181</td>\n",
              "      <td>190</td>\n",
              "      <td>1693</td>\n",
              "    </tr>\n",
              "    <tr>\n",
              "      <th>5</th>\n",
              "      <td>2952</td>\n",
              "      <td>17</td>\n",
              "      <td>9</td>\n",
              "      <td>60</td>\n",
              "      <td>13</td>\n",
              "      <td>3596</td>\n",
              "      <td>213</td>\n",
              "      <td>222</td>\n",
              "      <td>145</td>\n",
              "      <td>1717</td>\n",
              "    </tr>\n",
              "  </tbody>\n",
              "</table>\n",
              "</div>"
            ],
            "text/plain": [
              "     v1   v2  v3   v4   v5    v6   v7   v8   v9   v10\n",
              "0  3452  111  22  433  214  3677  252  210   74  3316\n",
              "1  3093   95   9  124    7  4115  234  227  124  2930\n",
              "2  2551   61  17   90    5   726  231  202   98   751\n",
              "3  2944  135   3  430   13  1868  224  238  149  1199\n",
              "4  3030  327  34  277  101  1973  120  181  190  1693\n",
              "5  2952   17   9   60   13  3596  213  222  145  1717"
            ]
          },
          "metadata": {
            "tags": []
          },
          "execution_count": 144
        }
      ]
    },
    {
      "metadata": {
        "id": "NQogfYA_aPXN",
        "colab_type": "code",
        "colab": {
          "autoexec": {
            "startup": false,
            "wait_interval": 0
          }
        }
      },
      "cell_type": "code",
      "source": [
        "key=data['key']"
      ],
      "execution_count": 0,
      "outputs": []
    },
    {
      "metadata": {
        "id": "MUQNeABaaPc2",
        "colab_type": "code",
        "colab": {
          "autoexec": {
            "startup": false,
            "wait_interval": 0
          }
        }
      },
      "cell_type": "code",
      "source": [
        "data.drop('key',axis=1,inplace=True)"
      ],
      "execution_count": 0,
      "outputs": []
    },
    {
      "metadata": {
        "id": "2Bf9kbP2Scsl",
        "colab_type": "code",
        "colab": {
          "autoexec": {
            "startup": false,
            "wait_interval": 0
          }
        }
      },
      "cell_type": "code",
      "source": [
        "from keras.models import Sequential\n",
        "from keras.layers import Dense\n",
        "from keras.layers import Dropout"
      ],
      "execution_count": 0,
      "outputs": []
    },
    {
      "metadata": {
        "id": "OSXRBI0mScsr",
        "colab_type": "code",
        "colab": {
          "autoexec": {
            "startup": false,
            "wait_interval": 0
          }
        }
      },
      "cell_type": "code",
      "source": [
        "y=data['label'].values"
      ],
      "execution_count": 0,
      "outputs": []
    },
    {
      "metadata": {
        "id": "eNH1rTxhyyyB",
        "colab_type": "code",
        "colab": {
          "autoexec": {
            "startup": false,
            "wait_interval": 0
          }
        }
      },
      "cell_type": "code",
      "source": [
        "for i in range(len(data['v3'])):\n",
        "  if data['v3'][i]>50:\n",
        "    data['v3'][i]=50\n"
      ],
      "execution_count": 0,
      "outputs": []
    },
    {
      "metadata": {
        "id": "vhC8UHZ8ZcjQ",
        "colab_type": "code",
        "colab": {
          "autoexec": {
            "startup": false,
            "wait_interval": 0
          }
        }
      },
      "cell_type": "code",
      "source": [
        "for i in range(len(data['v4'])):\n",
        "  if data['v4'][i]>1000:\n",
        "    data['v4'][i]=1000\n",
        "for i in range(len(data['v8'])):\n",
        "  if data['v8'][i]<100:\n",
        "    data['v8'][i]=100"
      ],
      "execution_count": 0,
      "outputs": []
    },
    {
      "metadata": {
        "id": "TUJ_QaFTZn4a",
        "colab_type": "code",
        "colab": {
          "autoexec": {
            "startup": false,
            "wait_interval": 0
          }
        }
      },
      "cell_type": "code",
      "source": [
        "for i in range(len(data['v7'])):\n",
        "  if data['v7'][i]<80:\n",
        "    data['v7'][i]=80"
      ],
      "execution_count": 0,
      "outputs": []
    },
    {
      "metadata": {
        "id": "-Or2IJmFY5HT",
        "colab_type": "code",
        "colab": {
          "autoexec": {
            "startup": false,
            "wait_interval": 0
          },
          "base_uri": "https://localhost:8080/",
          "height": 330
        },
        "outputId": "132a61a6-f0ea-46cd-d8c4-00e42961ba56",
        "executionInfo": {
          "status": "ok",
          "timestamp": 1533185615889,
          "user_tz": -330,
          "elapsed": 809,
          "user": {
            "displayName": "mohan vamsi",
            "photoUrl": "//lh3.googleusercontent.com/-H0mIvmQlpQE/AAAAAAAAAAI/AAAAAAAAAF0/4uLmMATMtAc/s50-c-k-no/photo.jpg",
            "userId": "100784954602535716573"
          }
        }
      },
      "cell_type": "code",
      "source": [
        "ses.boxplot('v4',data=data)"
      ],
      "execution_count": 89,
      "outputs": [
        {
          "output_type": "stream",
          "text": [
            "/usr/local/lib/python3.6/dist-packages/seaborn/categorical.py:454: FutureWarning: remove_na is deprecated and is a private function. Do not use.\n",
            "  box_data = remove_na(group_data)\n"
          ],
          "name": "stderr"
        },
        {
          "output_type": "execute_result",
          "data": {
            "text/plain": [
              "<matplotlib.axes._subplots.AxesSubplot at 0x7f978e654ac8>"
            ]
          },
          "metadata": {
            "tags": []
          },
          "execution_count": 89
        },
        {
          "output_type": "display_data",
          "data": {
            "image/png": "[encoded data removed]",
            "text/plain": [
              "<matplotlib.figure.Figure at 0x7f978ea287f0>"
            ]
          },
          "metadata": {
            "tags": []
          }
        }
      ]
    },
    {
      "metadata": {
        "id": "NS_VtXe9Scsy",
        "colab_type": "code",
        "colab": {
          "autoexec": {
            "startup": false,
            "wait_interval": 0
          }
        }
      },
      "cell_type": "code",
      "source": [
        "data.drop('label',axis=1,inplace=True)"
      ],
      "execution_count": 0,
      "outputs": []
    },
    {
      "metadata": {
        "id": "z4AUrQmVScs1",
        "colab_type": "code",
        "colab": {
          "autoexec": {
            "startup": false,
            "wait_interval": 0
          }
        }
      },
      "cell_type": "code",
      "source": [
        "X=data.values"
      ],
      "execution_count": 0,
      "outputs": []
    },
    {
      "metadata": {
        "id": "wICZKAkNScs6",
        "colab_type": "code",
        "colab": {
          "autoexec": {
            "startup": false,
            "wait_interval": 0
          },
          "base_uri": "https://localhost:8080/",
          "height": 136
        },
        "outputId": "d0ad46b0-b2b5-4f50-8b5a-40a89cd20555",
        "executionInfo": {
          "status": "ok",
          "timestamp": 1533185627066,
          "user_tz": -330,
          "elapsed": 832,
          "user": {
            "displayName": "mohan vamsi",
            "photoUrl": "//lh3.googleusercontent.com/-H0mIvmQlpQE/AAAAAAAAAAI/AAAAAAAAAF0/4uLmMATMtAc/s50-c-k-no/photo.jpg",
            "userId": "100784954602535716573"
          }
        }
      },
      "cell_type": "code",
      "source": [
        "X"
      ],
      "execution_count": 92,
      "outputs": [
        {
          "output_type": "execute_result",
          "data": {
            "text/plain": [
              "array([[3452,  111,   22, ...,    0,    1,    0],\n",
              "       [3093,   95,    9, ...,    0,    0,    0],\n",
              "       [2551,   61,   17, ...,    0,    0,    0],\n",
              "       ...,\n",
              "       [3096,   85,   17, ...,    0,    0,    0],\n",
              "       [2868,   93,   12, ...,    0,    0,    0],\n",
              "       [2916,  299,   24, ...,    0,    0,    0]])"
            ]
          },
          "metadata": {
            "tags": []
          },
          "execution_count": 92
        }
      ]
    },
    {
      "metadata": {
        "id": "XrdAKuZkWzdB",
        "colab_type": "code",
        "colab": {
          "autoexec": {
            "startup": false,
            "wait_interval": 0
          }
        }
      },
      "cell_type": "code",
      "source": [
        "X=(X-np.mean(X))/np.std(X)"
      ],
      "execution_count": 0,
      "outputs": []
    },
    {
      "metadata": {
        "id": "KWf6ZeKgr9gY",
        "colab_type": "code",
        "colab": {
          "autoexec": {
            "startup": false,
            "wait_interval": 0
          },
          "base_uri": "https://localhost:8080/",
          "height": 204
        },
        "outputId": "2bcde924-880c-4d56-931e-b3e41f1a903b",
        "executionInfo": {
          "status": "ok",
          "timestamp": 1533185631715,
          "user_tz": -330,
          "elapsed": 844,
          "user": {
            "displayName": "mohan vamsi",
            "photoUrl": "//lh3.googleusercontent.com/-H0mIvmQlpQE/AAAAAAAAAAI/AAAAAAAAAF0/4uLmMATMtAc/s50-c-k-no/photo.jpg",
            "userId": "100784954602535716573"
          }
        }
      },
      "cell_type": "code",
      "source": [
        "X[0]"
      ],
      "execution_count": 94,
      "outputs": [
        {
          "output_type": "execute_result",
          "data": {
            "text/plain": [
              "array([ 5.22997576, -0.06941508, -0.21058413,  0.44133136,  0.09396033,\n",
              "        5.5868638 ,  0.15423476,  0.08761566, -0.12810334,  5.01425677,\n",
              "       -0.24547985, -0.24547985, -0.24389368, -0.24547985, -0.24547985,\n",
              "       -0.24547985, -0.24547985, -0.24547985, -0.24547985, -0.24547985,\n",
              "       -0.24547985, -0.24547985, -0.24547985, -0.24547985, -0.24547985,\n",
              "       -0.24547985, -0.24547985, -0.24547985, -0.24547985, -0.24547985,\n",
              "       -0.24547985, -0.24547985, -0.24547985, -0.24547985, -0.24547985,\n",
              "       -0.24547985, -0.24547985, -0.24547985, -0.24547985, -0.24547985,\n",
              "       -0.24547985, -0.24547985, -0.24547985, -0.24547985, -0.24547985,\n",
              "       -0.24547985, -0.24547985, -0.24547985, -0.24547985, -0.24547985,\n",
              "       -0.24547985, -0.24547985, -0.24389368, -0.24547985])"
            ]
          },
          "metadata": {
            "tags": []
          },
          "execution_count": 94
        }
      ]
    },
    {
      "metadata": {
        "id": "_k-FDURxScs_",
        "colab_type": "code",
        "colab": {
          "autoexec": {
            "startup": false,
            "wait_interval": 0
          },
          "base_uri": "https://localhost:8080/",
          "height": 34
        },
        "outputId": "543810e5-8961-40c3-89c0-d4b79f10a079",
        "executionInfo": {
          "status": "ok",
          "timestamp": 1533185634435,
          "user_tz": -330,
          "elapsed": 823,
          "user": {
            "displayName": "mohan vamsi",
            "photoUrl": "//lh3.googleusercontent.com/-H0mIvmQlpQE/AAAAAAAAAAI/AAAAAAAAAF0/4uLmMATMtAc/s50-c-k-no/photo.jpg",
            "userId": "100784954602535716573"
          }
        }
      },
      "cell_type": "code",
      "source": [
        "y.shape"
      ],
      "execution_count": 95,
      "outputs": [
        {
          "output_type": "execute_result",
          "data": {
            "text/plain": [
              "(406709,)"
            ]
          },
          "metadata": {
            "tags": []
          },
          "execution_count": 95
        }
      ]
    },
    {
      "metadata": {
        "id": "GmVGoo9lSctE",
        "colab_type": "code",
        "colab": {
          "autoexec": {
            "startup": false,
            "wait_interval": 0
          },
          "base_uri": "https://localhost:8080/",
          "height": 34
        },
        "outputId": "4fb14882-9506-4eee-8d0a-17ab2a99c278",
        "executionInfo": {
          "status": "ok",
          "timestamp": 1533185635594,
          "user_tz": -330,
          "elapsed": 597,
          "user": {
            "displayName": "mohan vamsi",
            "photoUrl": "//lh3.googleusercontent.com/-H0mIvmQlpQE/AAAAAAAAAAI/AAAAAAAAAF0/4uLmMATMtAc/s50-c-k-no/photo.jpg",
            "userId": "100784954602535716573"
          }
        }
      },
      "cell_type": "code",
      "source": [
        "X[0].shape"
      ],
      "execution_count": 96,
      "outputs": [
        {
          "output_type": "execute_result",
          "data": {
            "text/plain": [
              "(54,)"
            ]
          },
          "metadata": {
            "tags": []
          },
          "execution_count": 96
        }
      ]
    },
    {
      "metadata": {
        "id": "K7RC-bltSctI",
        "colab_type": "code",
        "colab": {
          "autoexec": {
            "startup": false,
            "wait_interval": 0
          }
        }
      },
      "cell_type": "code",
      "source": [
        "model=Sequential()"
      ],
      "execution_count": 0,
      "outputs": []
    },
    {
      "metadata": {
        "id": "2SZ7531ISctN",
        "colab_type": "code",
        "colab": {
          "autoexec": {
            "startup": false,
            "wait_interval": 0
          }
        }
      },
      "cell_type": "code",
      "source": [
        "model.add(Dense(1024,kernel_initializer='uniform',activation='relu',input_dim=54))"
      ],
      "execution_count": 0,
      "outputs": []
    },
    {
      "metadata": {
        "id": "qg4Vfu0QSctT",
        "colab_type": "code",
        "colab": {
          "autoexec": {
            "startup": false,
            "wait_interval": 0
          }
        }
      },
      "cell_type": "code",
      "source": [
        "model.add(Dense(512,kernel_initializer='uniform',activation='relu'))\n",
        "model.add(Dense(512,kernel_initializer='uniform',activation='relu'))\n",
        "model.add(Dense(512,kernel_initializer='uniform',activation='relu'))"
      ],
      "execution_count": 0,
      "outputs": []
    },
    {
      "metadata": {
        "id": "Z_yYVz9fSctZ",
        "colab_type": "code",
        "colab": {
          "autoexec": {
            "startup": false,
            "wait_interval": 0
          }
        }
      },
      "cell_type": "code",
      "source": [
        "model.add(Dense(256,kernel_initializer='uniform',activation='relu'))\n",
        "model.add(Dense(256,kernel_initializer='uniform',activation='relu'))"
      ],
      "execution_count": 0,
      "outputs": []
    },
    {
      "metadata": {
        "id": "uyItEqptffp9",
        "colab_type": "code",
        "colab": {
          "autoexec": {
            "startup": false,
            "wait_interval": 0
          }
        }
      },
      "cell_type": "code",
      "source": [
        "model.add(Dense(128,kernel_initializer='uniform',activation='relu'))\n",
        "model.add(Dense(128,kernel_initializer='uniform',activation='relu'))"
      ],
      "execution_count": 0,
      "outputs": []
    },
    {
      "metadata": {
        "id": "Le6G5xqzSctf",
        "colab_type": "code",
        "colab": {
          "autoexec": {
            "startup": false,
            "wait_interval": 0
          }
        }
      },
      "cell_type": "code",
      "source": [
        "model.add(Dense(64,kernel_initializer='uniform',activation='relu'))\n",
        "model.add(Dense(64,kernel_initializer='uniform',activation='relu'))"
      ],
      "execution_count": 0,
      "outputs": []
    },
    {
      "metadata": {
        "id": "sf4zZ4-eScto",
        "colab_type": "code",
        "colab": {
          "autoexec": {
            "startup": false,
            "wait_interval": 0
          }
        }
      },
      "cell_type": "code",
      "source": [
        "model.add(Dense(1,activation='sigmoid'))"
      ],
      "execution_count": 0,
      "outputs": []
    },
    {
      "metadata": {
        "id": "eG_dS92RSctr",
        "colab_type": "code",
        "colab": {
          "autoexec": {
            "startup": false,
            "wait_interval": 0
          }
        }
      },
      "cell_type": "code",
      "source": [
        "model.compile(optimizer='adam',loss='binary_crossentropy',metrics=['acc'])"
      ],
      "execution_count": 0,
      "outputs": []
    },
    {
      "metadata": {
        "id": "fpuRHJ8ZSctv",
        "colab_type": "code",
        "colab": {
          "autoexec": {
            "startup": false,
            "wait_interval": 0
          },
          "base_uri": "https://localhost:8080/",
          "height": 510
        },
        "outputId": "94acca15-4821-4c18-8276-259f27528ae4",
        "executionInfo": {
          "status": "ok",
          "timestamp": 1533185648645,
          "user_tz": -330,
          "elapsed": 566,
          "user": {
            "displayName": "mohan vamsi",
            "photoUrl": "//lh3.googleusercontent.com/-H0mIvmQlpQE/AAAAAAAAAAI/AAAAAAAAAF0/4uLmMATMtAc/s50-c-k-no/photo.jpg",
            "userId": "100784954602535716573"
          }
        }
      },
      "cell_type": "code",
      "source": [
        "model.summary()"
      ],
      "execution_count": 105,
      "outputs": [
        {
          "output_type": "stream",
          "text": [
            "_________________________________________________________________\n",
            "Layer (type)                 Output Shape              Param #   \n",
            "=================================================================\n",
            "dense_12 (Dense)             (None, 1024)              56320     \n",
            "_________________________________________________________________\n",
            "dense_13 (Dense)             (None, 512)               524800    \n",
            "_________________________________________________________________\n",
            "dense_14 (Dense)             (None, 512)               262656    \n",
            "_________________________________________________________________\n",
            "dense_15 (Dense)             (None, 512)               262656    \n",
            "_________________________________________________________________\n",
            "dense_16 (Dense)             (None, 256)               131328    \n",
            "_________________________________________________________________\n",
            "dense_17 (Dense)             (None, 256)               65792     \n",
            "_________________________________________________________________\n",
            "dense_18 (Dense)             (None, 128)               32896     \n",
            "_________________________________________________________________\n",
            "dense_19 (Dense)             (None, 128)               16512     \n",
            "_________________________________________________________________\n",
            "dense_20 (Dense)             (None, 64)                8256      \n",
            "_________________________________________________________________\n",
            "dense_21 (Dense)             (None, 64)                4160      \n",
            "_________________________________________________________________\n",
            "dense_22 (Dense)             (None, 1)                 65        \n",
            "=================================================================\n",
            "Total params: 1,365,441\n",
            "Trainable params: 1,365,441\n",
            "Non-trainable params: 0\n",
            "_________________________________________________________________\n"
          ],
          "name": "stdout"
        }
      ]
    },
    {
      "metadata": {
        "id": "UkUIbdxMSct3",
        "colab_type": "code",
        "colab": {
          "autoexec": {
            "startup": false,
            "wait_interval": 0
          }
        }
      },
      "cell_type": "code",
      "source": [
        "from sklearn.model_selection import train_test_split"
      ],
      "execution_count": 0,
      "outputs": []
    },
    {
      "metadata": {
        "id": "PHzIBA67Sct7",
        "colab_type": "code",
        "colab": {
          "autoexec": {
            "startup": false,
            "wait_interval": 0
          }
        }
      },
      "cell_type": "code",
      "source": [
        "X_train,X_test,y_train,y_test=train_test_split(X,y,test_size=0.00)"
      ],
      "execution_count": 0,
      "outputs": []
    },
    {
      "metadata": {
        "id": "pQy_HB4dSct_",
        "colab_type": "code",
        "colab": {
          "autoexec": {
            "startup": false,
            "wait_interval": 0
          },
          "base_uri": "https://localhost:8080/",
          "height": 34
        },
        "outputId": "c6a56385-cf4a-451e-f5d3-b9a1367bb582",
        "executionInfo": {
          "status": "ok",
          "timestamp": 1533185656439,
          "user_tz": -330,
          "elapsed": 826,
          "user": {
            "displayName": "mohan vamsi",
            "photoUrl": "//lh3.googleusercontent.com/-H0mIvmQlpQE/AAAAAAAAAAI/AAAAAAAAAF0/4uLmMATMtAc/s50-c-k-no/photo.jpg",
            "userId": "100784954602535716573"
          }
        }
      },
      "cell_type": "code",
      "source": [
        "X_train.shape"
      ],
      "execution_count": 108,
      "outputs": [
        {
          "output_type": "execute_result",
          "data": {
            "text/plain": [
              "(406709, 54)"
            ]
          },
          "metadata": {
            "tags": []
          },
          "execution_count": 108
        }
      ]
    },
    {
      "metadata": {
        "id": "BxpduR42ScuE",
        "colab_type": "code",
        "colab": {
          "autoexec": {
            "startup": false,
            "wait_interval": 0
          },
          "base_uri": "https://localhost:8080/",
          "height": 34
        },
        "outputId": "ea0d45fb-fdc0-4cb2-aa28-fb1ffaa3ec27",
        "executionInfo": {
          "status": "ok",
          "timestamp": 1533185658006,
          "user_tz": -330,
          "elapsed": 829,
          "user": {
            "displayName": "mohan vamsi",
            "photoUrl": "//lh3.googleusercontent.com/-H0mIvmQlpQE/AAAAAAAAAAI/AAAAAAAAAF0/4uLmMATMtAc/s50-c-k-no/photo.jpg",
            "userId": "100784954602535716573"
          }
        }
      },
      "cell_type": "code",
      "source": [
        "y_train.shape"
      ],
      "execution_count": 109,
      "outputs": [
        {
          "output_type": "execute_result",
          "data": {
            "text/plain": [
              "(406709,)"
            ]
          },
          "metadata": {
            "tags": []
          },
          "execution_count": 109
        }
      ]
    },
    {
      "metadata": {
        "id": "JlvflpSHScuK",
        "colab_type": "code",
        "colab": {
          "autoexec": {
            "startup": false,
            "wait_interval": 0
          },
          "base_uri": "https://localhost:8080/",
          "height": 1754
        },
        "outputId": "3a09df54-22e1-4927-f704-87c5e0b20034",
        "executionInfo": {
          "status": "ok",
          "timestamp": 1533189656844,
          "user_tz": -330,
          "elapsed": 599531,
          "user": {
            "displayName": "mohan vamsi",
            "photoUrl": "//lh3.googleusercontent.com/-H0mIvmQlpQE/AAAAAAAAAAI/AAAAAAAAAF0/4uLmMATMtAc/s50-c-k-no/photo.jpg",
            "userId": "100784954602535716573"
          }
        }
      },
      "cell_type": "code",
      "source": [
        "model.fit(X_train,y_train,batch_size=500,epochs=50)"
      ],
      "execution_count": 111,
      "outputs": [
        {
          "output_type": "stream",
          "text": [
            "Epoch 1/50\n",
            "406709/406709 [==============================] - 12s 29us/step - loss: 0.0536 - acc: 0.9787\n",
            "Epoch 2/50\n",
            "406709/406709 [==============================] - 12s 30us/step - loss: 0.0633 - acc: 0.9750\n",
            "Epoch 3/50\n",
            "252500/406709 [=================>............] - ETA: 4s - loss: 0.0469 - acc: 0.9806"
          ],
          "name": "stdout"
        },
        {
          "output_type": "stream",
          "text": [
            "406709/406709 [==============================] - 12s 30us/step - loss: 0.0469 - acc: 0.9805\n",
            "Epoch 4/50\n",
            "406709/406709 [==============================] - 12s 30us/step - loss: 0.0481 - acc: 0.9802\n",
            "Epoch 5/50\n",
            "366500/406709 [==========================>...] - ETA: 1s - loss: 0.0479 - acc: 0.9800"
          ],
          "name": "stdout"
        },
        {
          "output_type": "stream",
          "text": [
            "406709/406709 [==============================] - 12s 29us/step - loss: 0.0480 - acc: 0.9800\n",
            "Epoch 6/50\n",
            "406709/406709 [==============================] - 12s 29us/step - loss: 0.1951 - acc: 0.9140\n",
            "Epoch 7/50\n",
            "399500/406709 [============================>.] - ETA: 0s - loss: 0.0810 - acc: 0.9671"
          ],
          "name": "stdout"
        },
        {
          "output_type": "stream",
          "text": [
            "406709/406709 [==============================] - 12s 30us/step - loss: 0.0805 - acc: 0.9672\n",
            "Epoch 8/50\n",
            "406709/406709 [==============================] - 12s 29us/step - loss: 0.0567 - acc: 0.9770\n",
            "Epoch 9/50\n",
            "406709/406709 [==============================] - 12s 29us/step - loss: 0.0553 - acc: 0.9771\n"
          ],
          "name": "stdout"
        },
        {
          "output_type": "stream",
          "text": [
            "Epoch 10/50\n",
            "406709/406709 [==============================] - 12s 29us/step - loss: 0.0539 - acc: 0.9780\n",
            "Epoch 11/50\n",
            "406709/406709 [==============================] - 12s 30us/step - loss: 0.0508 - acc: 0.9790\n",
            "Epoch 12/50\n",
            "241000/406709 [================>.............] - ETA: 4s - loss: 0.0503 - acc: 0.9795"
          ],
          "name": "stdout"
        },
        {
          "output_type": "stream",
          "text": [
            "406709/406709 [==============================] - 12s 30us/step - loss: 0.0525 - acc: 0.9784\n",
            "Epoch 13/50\n",
            "406709/406709 [==============================] - 12s 29us/step - loss: 0.0521 - acc: 0.9787\n",
            "Epoch 14/50\n",
            "359500/406709 [=========================>....] - ETA: 1s - loss: 0.0479 - acc: 0.9800"
          ],
          "name": "stdout"
        },
        {
          "output_type": "stream",
          "text": [
            "406709/406709 [==============================] - 12s 29us/step - loss: 0.0489 - acc: 0.9796\n",
            "Epoch 15/50\n",
            "406709/406709 [==============================] - 12s 30us/step - loss: 0.0500 - acc: 0.9795\n",
            "Epoch 16/50\n",
            "390000/406709 [===========================>..] - ETA: 0s - loss: 0.0517 - acc: 0.9788"
          ],
          "name": "stdout"
        },
        {
          "output_type": "stream",
          "text": [
            "406709/406709 [==============================] - 12s 30us/step - loss: 0.0516 - acc: 0.9788\n",
            "Epoch 17/50\n",
            "406709/406709 [==============================] - 12s 29us/step - loss: 0.0539 - acc: 0.9784\n",
            "Epoch 18/50\n",
            "401500/406709 [============================>.] - ETA: 0s - loss: 0.0493 - acc: 0.9801"
          ],
          "name": "stdout"
        },
        {
          "output_type": "stream",
          "text": [
            "406709/406709 [==============================] - 12s 30us/step - loss: 0.0495 - acc: 0.9800\n",
            "Epoch 19/50\n",
            "406709/406709 [==============================] - 12s 29us/step - loss: 0.0851 - acc: 0.9689\n",
            "Epoch 20/50\n",
            "404000/406709 [============================>.] - ETA: 0s - loss: 0.0529 - acc: 0.9790"
          ],
          "name": "stdout"
        },
        {
          "output_type": "stream",
          "text": [
            "406709/406709 [==============================] - 12s 29us/step - loss: 0.0529 - acc: 0.9789\n",
            "Epoch 21/50\n",
            "406709/406709 [==============================] - 12s 29us/step - loss: 0.0496 - acc: 0.9799\n",
            "Epoch 22/50\n",
            "403500/406709 [============================>.] - ETA: 0s - loss: 0.0479 - acc: 0.9804"
          ],
          "name": "stdout"
        },
        {
          "output_type": "stream",
          "text": [
            "406709/406709 [==============================] - 12s 30us/step - loss: 0.0479 - acc: 0.9804\n",
            "Epoch 23/50\n",
            "406709/406709 [==============================] - 12s 30us/step - loss: 0.0471 - acc: 0.9808\n",
            "Epoch 24/50\n",
            "405500/406709 [============================>.] - ETA: 0s - loss: 0.0479 - acc: 0.9805"
          ],
          "name": "stdout"
        },
        {
          "output_type": "stream",
          "text": [
            "406709/406709 [==============================] - 12s 29us/step - loss: 0.0480 - acc: 0.9805\n",
            "Epoch 25/50\n",
            "406709/406709 [==============================] - 12s 29us/step - loss: 0.0455 - acc: 0.9812\n",
            "Epoch 26/50\n",
            "402000/406709 [============================>.] - ETA: 0s - loss: 0.0447 - acc: 0.9817"
          ],
          "name": "stdout"
        },
        {
          "output_type": "stream",
          "text": [
            "406709/406709 [==============================] - 12s 30us/step - loss: 0.0448 - acc: 0.9817\n",
            "Epoch 27/50\n",
            "406709/406709 [==============================] - 12s 29us/step - loss: 0.0549 - acc: 0.9780\n",
            "Epoch 28/50\n",
            "404000/406709 [============================>.] - ETA: 0s - loss: 0.0471 - acc: 0.9810"
          ],
          "name": "stdout"
        },
        {
          "output_type": "stream",
          "text": [
            "406709/406709 [==============================] - 12s 30us/step - loss: 0.0471 - acc: 0.9810\n",
            "Epoch 29/50\n",
            "406709/406709 [==============================] - 12s 29us/step - loss: 0.0662 - acc: 0.9739\n",
            "Epoch 30/50\n",
            "403500/406709 [============================>.] - ETA: 0s - loss: 0.0559 - acc: 0.9777"
          ],
          "name": "stdout"
        },
        {
          "output_type": "stream",
          "text": [
            "406709/406709 [==============================] - 12s 29us/step - loss: 0.0559 - acc: 0.9776\n",
            "Epoch 31/50\n",
            "406709/406709 [==============================] - 12s 30us/step - loss: 0.0440 - acc: 0.9821\n",
            "Epoch 32/50\n",
            "403000/406709 [============================>.] - ETA: 0s - loss: 0.0434 - acc: 0.9822"
          ],
          "name": "stdout"
        },
        {
          "output_type": "stream",
          "text": [
            "406709/406709 [==============================] - 12s 30us/step - loss: 0.0434 - acc: 0.9821\n",
            "Epoch 33/50\n",
            "406709/406709 [==============================] - 12s 29us/step - loss: 0.0431 - acc: 0.9821\n",
            "Epoch 34/50\n",
            "405000/406709 [============================>.] - ETA: 0s - loss: 0.0470 - acc: 0.9808"
          ],
          "name": "stdout"
        },
        {
          "output_type": "stream",
          "text": [
            "406709/406709 [==============================] - 12s 29us/step - loss: 0.0471 - acc: 0.9808\n",
            "Epoch 35/50\n",
            "406709/406709 [==============================] - 12s 29us/step - loss: 0.0433 - acc: 0.9820\n",
            "Epoch 36/50\n",
            "404500/406709 [============================>.] - ETA: 0s - loss: 0.0509 - acc: 0.9795"
          ],
          "name": "stdout"
        },
        {
          "output_type": "stream",
          "text": [
            "406709/406709 [==============================] - 12s 30us/step - loss: 0.0509 - acc: 0.9795\n",
            "Epoch 37/50\n",
            "406709/406709 [==============================] - 12s 29us/step - loss: 0.0435 - acc: 0.9822\n",
            "Epoch 38/50\n",
            "404500/406709 [============================>.] - ETA: 0s - loss: 0.0459 - acc: 0.9815"
          ],
          "name": "stdout"
        },
        {
          "output_type": "stream",
          "text": [
            "406709/406709 [==============================] - 12s 29us/step - loss: 0.0459 - acc: 0.9815\n",
            "Epoch 39/50\n",
            "406709/406709 [==============================] - 12s 29us/step - loss: 0.0743 - acc: 0.9711\n",
            "Epoch 40/50\n",
            "406709/406709 [==============================] - 12s 29us/step - loss: 0.0457 - acc: 0.9815\n"
          ],
          "name": "stdout"
        },
        {
          "output_type": "stream",
          "text": [
            "Epoch 41/50\n",
            "406709/406709 [==============================] - 12s 29us/step - loss: 0.0516 - acc: 0.9798\n",
            "Epoch 42/50\n",
            "406709/406709 [==============================] - 12s 29us/step - loss: 0.0409 - acc: 0.9834\n",
            "Epoch 43/50\n",
            "243500/406709 [================>.............] - ETA: 4s - loss: 0.0429 - acc: 0.9824"
          ],
          "name": "stdout"
        },
        {
          "output_type": "stream",
          "text": [
            "406709/406709 [==============================] - 12s 29us/step - loss: 0.0425 - acc: 0.9826\n",
            "Epoch 44/50\n",
            "406709/406709 [==============================] - 12s 30us/step - loss: 0.0422 - acc: 0.9828\n",
            "Epoch 45/50\n",
            "358500/406709 [=========================>....] - ETA: 1s - loss: 0.0437 - acc: 0.9822"
          ],
          "name": "stdout"
        },
        {
          "output_type": "stream",
          "text": [
            "406709/406709 [==============================] - 12s 29us/step - loss: 0.0435 - acc: 0.9823\n",
            "Epoch 46/50\n",
            "406709/406709 [==============================] - 12s 29us/step - loss: 0.0684 - acc: 0.9746\n",
            "Epoch 47/50\n",
            "386500/406709 [===========================>..] - ETA: 0s - loss: 0.0426 - acc: 0.9829"
          ],
          "name": "stdout"
        },
        {
          "output_type": "stream",
          "text": [
            "406709/406709 [==============================] - 12s 29us/step - loss: 0.0430 - acc: 0.9828\n",
            "Epoch 48/50\n",
            "406709/406709 [==============================] - 12s 29us/step - loss: 0.0450 - acc: 0.9821\n",
            "Epoch 49/50\n",
            "399000/406709 [============================>.] - ETA: 0s - loss: 0.1658 - acc: 0.9381"
          ],
          "name": "stdout"
        },
        {
          "output_type": "stream",
          "text": [
            "406709/406709 [==============================] - 12s 29us/step - loss: 0.1636 - acc: 0.9388\n",
            "Epoch 50/50\n",
            "406709/406709 [==============================] - 12s 29us/step - loss: 0.2101 - acc: 0.9133\n"
          ],
          "name": "stdout"
        },
        {
          "output_type": "execute_result",
          "data": {
            "text/plain": [
              "<keras.callbacks.History at 0x7f97250aecc0>"
            ]
          },
          "metadata": {
            "tags": []
          },
          "execution_count": 111
        }
      ]
    },
    {
      "metadata": {
        "id": "Swgj8fttSOgA",
        "colab_type": "code",
        "colab": {
          "autoexec": {
            "startup": false,
            "wait_interval": 0
          },
          "resources": {
            "http://localhost:8080/nbextensions/google.colab/files.js": {
              "data": "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",
              "ok": true,
              "headers": [
                [
                  "content-type",
                  "application/javascript"
                ]
              ],
              "status": 200,
              "status_text": ""
            }
          },
          "base_uri": "https://localhost:8080/",
          "height": 72
        },
        "outputId": "96d1af15-55e5-4f67-f13e-fc36e43ea1c2",
        "executionInfo": {
          "status": "ok",
          "timestamp": 1533183718063,
          "user_tz": -330,
          "elapsed": 295516,
          "user": {
            "displayName": "mohan vamsi",
            "photoUrl": "//lh3.googleusercontent.com/-H0mIvmQlpQE/AAAAAAAAAAI/AAAAAAAAAF0/4uLmMATMtAc/s50-c-k-no/photo.jpg",
            "userId": "100784954602535716573"
          }
        }
      },
      "cell_type": "code",
      "source": [
        "from google.colab import files\n",
        "uploaded = files.upload()"
      ],
      "execution_count": 34,
      "outputs": [
        {
          "output_type": "display_data",
          "data": {
            "text/html": [
              "\n",
              "     <input type=\"file\" id=\"files-b08b7ea9-7a54-4c98-a541-a84aa46f1529\" name=\"files[]\" multiple disabled />\n",
              "     <output id=\"result-b08b7ea9-7a54-4c98-a541-a84aa46f1529\">\n",
              "      Upload widget is only available when the cell has been executed in the\n",
              "      current browser session. Please rerun this cell to enable.\n",
              "      </output>\n",
              "      <script src=\"/nbextensions/google.colab/files.js\"></script> "
            ],
            "text/plain": [
              "<IPython.core.display.HTML object>"
            ]
          },
          "metadata": {
            "tags": []
          }
        },
        {
          "output_type": "stream",
          "text": [
            "Saving test.csv to test.csv\n"
          ],
          "name": "stdout"
        }
      ]
    },
    {
      "metadata": {
        "id": "1Uo1d6hpVEvI",
        "colab_type": "code",
        "colab": {
          "autoexec": {
            "startup": false,
            "wait_interval": 0
          }
        }
      },
      "cell_type": "code",
      "source": [
        "import io\n",
        "test=pd.read_csv(io.StringIO(uploaded['test.csv'].decode('utf-8')))"
      ],
      "execution_count": 0,
      "outputs": []
    },
    {
      "metadata": {
        "id": "Hsl_MdMyOeC6",
        "colab_type": "code",
        "colab": {
          "autoexec": {
            "startup": false,
            "wait_interval": 0
          },
          "base_uri": "https://localhost:8080/",
          "height": 233
        },
        "outputId": "4272573d-7250-4951-f1a3-c5fb8f022f96",
        "executionInfo": {
          "status": "ok",
          "timestamp": 1533189686974,
          "user_tz": -330,
          "elapsed": 890,
          "user": {
            "displayName": "mohan vamsi",
            "photoUrl": "//lh3.googleusercontent.com/-H0mIvmQlpQE/AAAAAAAAAAI/AAAAAAAAAF0/4uLmMATMtAc/s50-c-k-no/photo.jpg",
            "userId": "100784954602535716573"
          }
        }
      },
      "cell_type": "code",
      "source": [
        "test_copy.head()"
      ],
      "execution_count": 113,
      "outputs": [
        {
          "output_type": "execute_result",
          "data": {
            "text/html": [
              "<div>\n",
              "<style scoped>\n",
              "    .dataframe tbody tr th:only-of-type {\n",
              "        vertical-align: middle;\n",
              "    }\n",
              "\n",
              "    .dataframe tbody tr th {\n",
              "        vertical-align: top;\n",
              "    }\n",
              "\n",
              "    .dataframe thead th {\n",
              "        text-align: right;\n",
              "    }\n",
              "</style>\n",
              "<table border=\"1\" class=\"dataframe\">\n",
              "  <thead>\n",
              "    <tr style=\"text-align: right;\">\n",
              "      <th></th>\n",
              "      <th>key</th>\n",
              "      <th>v1</th>\n",
              "      <th>v2</th>\n",
              "      <th>v3</th>\n",
              "      <th>v4</th>\n",
              "      <th>v5</th>\n",
              "      <th>v6</th>\n",
              "      <th>v7</th>\n",
              "      <th>v8</th>\n",
              "      <th>v9</th>\n",
              "      <th>...</th>\n",
              "      <th>v45</th>\n",
              "      <th>v46</th>\n",
              "      <th>v47</th>\n",
              "      <th>v48</th>\n",
              "      <th>v49</th>\n",
              "      <th>v50</th>\n",
              "      <th>v51</th>\n",
              "      <th>v52</th>\n",
              "      <th>v53</th>\n",
              "      <th>v54</th>\n",
              "    </tr>\n",
              "  </thead>\n",
              "  <tbody>\n",
              "    <tr>\n",
              "      <th>0</th>\n",
              "      <td>258918</td>\n",
              "      <td>2352</td>\n",
              "      <td>293</td>\n",
              "      <td>23</td>\n",
              "      <td>256</td>\n",
              "      <td>45</td>\n",
              "      <td>201</td>\n",
              "      <td>151</td>\n",
              "      <td>228</td>\n",
              "      <td>215</td>\n",
              "      <td>...</td>\n",
              "      <td>0</td>\n",
              "      <td>0</td>\n",
              "      <td>0</td>\n",
              "      <td>0</td>\n",
              "      <td>0</td>\n",
              "      <td>0</td>\n",
              "      <td>0</td>\n",
              "      <td>0</td>\n",
              "      <td>0</td>\n",
              "      <td>0</td>\n",
              "    </tr>\n",
              "    <tr>\n",
              "      <th>1</th>\n",
              "      <td>258134</td>\n",
              "      <td>2790</td>\n",
              "      <td>88</td>\n",
              "      <td>8</td>\n",
              "      <td>330</td>\n",
              "      <td>35</td>\n",
              "      <td>1400</td>\n",
              "      <td>232</td>\n",
              "      <td>227</td>\n",
              "      <td>128</td>\n",
              "      <td>...</td>\n",
              "      <td>0</td>\n",
              "      <td>0</td>\n",
              "      <td>0</td>\n",
              "      <td>0</td>\n",
              "      <td>0</td>\n",
              "      <td>0</td>\n",
              "      <td>0</td>\n",
              "      <td>0</td>\n",
              "      <td>0</td>\n",
              "      <td>0</td>\n",
              "    </tr>\n",
              "    <tr>\n",
              "      <th>2</th>\n",
              "      <td>165265</td>\n",
              "      <td>2826</td>\n",
              "      <td>115</td>\n",
              "      <td>7</td>\n",
              "      <td>162</td>\n",
              "      <td>24</td>\n",
              "      <td>1020</td>\n",
              "      <td>232</td>\n",
              "      <td>233</td>\n",
              "      <td>134</td>\n",
              "      <td>...</td>\n",
              "      <td>0</td>\n",
              "      <td>0</td>\n",
              "      <td>0</td>\n",
              "      <td>0</td>\n",
              "      <td>0</td>\n",
              "      <td>0</td>\n",
              "      <td>0</td>\n",
              "      <td>0</td>\n",
              "      <td>0</td>\n",
              "      <td>0</td>\n",
              "    </tr>\n",
              "    <tr>\n",
              "      <th>3</th>\n",
              "      <td>522141</td>\n",
              "      <td>3234</td>\n",
              "      <td>137</td>\n",
              "      <td>16</td>\n",
              "      <td>150</td>\n",
              "      <td>20</td>\n",
              "      <td>968</td>\n",
              "      <td>243</td>\n",
              "      <td>232</td>\n",
              "      <td>112</td>\n",
              "      <td>...</td>\n",
              "      <td>0</td>\n",
              "      <td>0</td>\n",
              "      <td>0</td>\n",
              "      <td>0</td>\n",
              "      <td>0</td>\n",
              "      <td>0</td>\n",
              "      <td>0</td>\n",
              "      <td>0</td>\n",
              "      <td>0</td>\n",
              "      <td>0</td>\n",
              "    </tr>\n",
              "    <tr>\n",
              "      <th>4</th>\n",
              "      <td>569662</td>\n",
              "      <td>2810</td>\n",
              "      <td>58</td>\n",
              "      <td>22</td>\n",
              "      <td>124</td>\n",
              "      <td>25</td>\n",
              "      <td>3293</td>\n",
              "      <td>230</td>\n",
              "      <td>188</td>\n",
              "      <td>80</td>\n",
              "      <td>...</td>\n",
              "      <td>0</td>\n",
              "      <td>0</td>\n",
              "      <td>0</td>\n",
              "      <td>0</td>\n",
              "      <td>0</td>\n",
              "      <td>0</td>\n",
              "      <td>0</td>\n",
              "      <td>0</td>\n",
              "      <td>0</td>\n",
              "      <td>0</td>\n",
              "    </tr>\n",
              "  </tbody>\n",
              "</table>\n",
              "<p>5 rows × 55 columns</p>\n",
              "</div>"
            ],
            "text/plain": [
              "      key    v1   v2  v3   v4  v5    v6   v7   v8   v9 ...   v45  v46  v47  \\\n",
              "0  258918  2352  293  23  256  45   201  151  228  215 ...     0    0    0   \n",
              "1  258134  2790   88   8  330  35  1400  232  227  128 ...     0    0    0   \n",
              "2  165265  2826  115   7  162  24  1020  232  233  134 ...     0    0    0   \n",
              "3  522141  3234  137  16  150  20   968  243  232  112 ...     0    0    0   \n",
              "4  569662  2810   58  22  124  25  3293  230  188   80 ...     0    0    0   \n",
              "\n",
              "   v48  v49  v50  v51  v52  v53  v54  \n",
              "0    0    0    0    0    0    0    0  \n",
              "1    0    0    0    0    0    0    0  \n",
              "2    0    0    0    0    0    0    0  \n",
              "3    0    0    0    0    0    0    0  \n",
              "4    0    0    0    0    0    0    0  \n",
              "\n",
              "[5 rows x 55 columns]"
            ]
          },
          "metadata": {
            "tags": []
          },
          "execution_count": 113
        }
      ]
    },
    {
      "metadata": {
        "id": "LGwF5BAhOifA",
        "colab_type": "code",
        "colab": {
          "autoexec": {
            "startup": false,
            "wait_interval": 0
          }
        }
      },
      "cell_type": "code",
      "source": [
        "test=test_copy"
      ],
      "execution_count": 0,
      "outputs": []
    },
    {
      "metadata": {
        "id": "7aOlpiGnOl5f",
        "colab_type": "code",
        "colab": {
          "autoexec": {
            "startup": false,
            "wait_interval": 0
          },
          "base_uri": "https://localhost:8080/",
          "height": 34
        },
        "outputId": "c5c4e717-71d7-4744-d2d0-762d45a068f0",
        "executionInfo": {
          "status": "ok",
          "timestamp": 1533189717951,
          "user_tz": -330,
          "elapsed": 1054,
          "user": {
            "displayName": "mohan vamsi",
            "photoUrl": "//lh3.googleusercontent.com/-H0mIvmQlpQE/AAAAAAAAAAI/AAAAAAAAAF0/4uLmMATMtAc/s50-c-k-no/photo.jpg",
            "userId": "100784954602535716573"
          }
        }
      },
      "cell_type": "code",
      "source": [
        "test.shape"
      ],
      "execution_count": 115,
      "outputs": [
        {
          "output_type": "execute_result",
          "data": {
            "text/plain": [
              "(174303, 55)"
            ]
          },
          "metadata": {
            "tags": []
          },
          "execution_count": 115
        }
      ]
    },
    {
      "metadata": {
        "id": "mXJrkHz93wWm",
        "colab_type": "code",
        "colab": {
          "autoexec": {
            "startup": false,
            "wait_interval": 0
          }
        }
      },
      "cell_type": "code",
      "source": [
        "test_copy=test.copy()\n"
      ],
      "execution_count": 0,
      "outputs": []
    },
    {
      "metadata": {
        "id": "QNntAjTiWp7H",
        "colab_type": "code",
        "colab": {
          "autoexec": {
            "startup": false,
            "wait_interval": 0
          }
        }
      },
      "cell_type": "code",
      "source": [
        "for i in range(len(test['v3'])):\n",
        "  if test['v3'][i]>30:\n",
        "    test['v3'][i]=30\n",
        "for i in range(len(test['v4'])):\n",
        "  if test['v4'][i]>800:\n",
        "    test['v4'][i]=800\n",
        "for i in range(len(test['v8'])):\n",
        "  if test['v8'][i]<180:\n",
        "    test['v8'][i]=180\n",
        "for i in range(len(test['v7'])):\n",
        "  if test['v7'][i]<140:\n",
        "    test['v7'][i]=140"
      ],
      "execution_count": 0,
      "outputs": []
    },
    {
      "metadata": {
        "id": "X51o8xX0Scuh",
        "colab_type": "code",
        "colab": {
          "autoexec": {
            "startup": false,
            "wait_interval": 0
          }
        }
      },
      "cell_type": "code",
      "source": [
        "key=test['key']\n",
        "test.drop('key',axis=1,inplace=True)"
      ],
      "execution_count": 0,
      "outputs": []
    },
    {
      "metadata": {
        "id": "h1no82CfScuk",
        "colab_type": "code",
        "colab": {
          "autoexec": {
            "startup": false,
            "wait_interval": 0
          }
        }
      },
      "cell_type": "code",
      "source": [
        "test=test.values"
      ],
      "execution_count": 0,
      "outputs": []
    },
    {
      "metadata": {
        "id": "rmij-UJGYiXD",
        "colab_type": "code",
        "colab": {
          "autoexec": {
            "startup": false,
            "wait_interval": 0
          }
        }
      },
      "cell_type": "code",
      "source": [
        "test=(test-np.mean(test))/np.std(test)"
      ],
      "execution_count": 0,
      "outputs": []
    },
    {
      "metadata": {
        "id": "Xfg131XTScun",
        "colab_type": "code",
        "colab": {
          "autoexec": {
            "startup": false,
            "wait_interval": 0
          },
          "base_uri": "https://localhost:8080/",
          "height": 34
        },
        "outputId": "48deec0b-83c8-4581-8e25-7bfe55e63934",
        "executionInfo": {
          "status": "ok",
          "timestamp": 1533189753773,
          "user_tz": -330,
          "elapsed": 1030,
          "user": {
            "displayName": "mohan vamsi",
            "photoUrl": "//lh3.googleusercontent.com/-H0mIvmQlpQE/AAAAAAAAAAI/AAAAAAAAAF0/4uLmMATMtAc/s50-c-k-no/photo.jpg",
            "userId": "100784954602535716573"
          }
        }
      },
      "cell_type": "code",
      "source": [
        "test.shape"
      ],
      "execution_count": 121,
      "outputs": [
        {
          "output_type": "execute_result",
          "data": {
            "text/plain": [
              "(174303, 54)"
            ]
          },
          "metadata": {
            "tags": []
          },
          "execution_count": 121
        }
      ]
    },
    {
      "metadata": {
        "id": "-eqim4PuScut",
        "colab_type": "code",
        "colab": {
          "autoexec": {
            "startup": false,
            "wait_interval": 0
          }
        }
      },
      "cell_type": "code",
      "source": [
        "predict=model.predict_proba(test)"
      ],
      "execution_count": 0,
      "outputs": []
    },
    {
      "metadata": {
        "id": "1hnNs2iRScuz",
        "colab_type": "code",
        "colab": {
          "autoexec": {
            "startup": false,
            "wait_interval": 0
          },
          "base_uri": "https://localhost:8080/",
          "height": 136
        },
        "outputId": "89863e7a-adc6-43c1-c735-54b726cc6c6f",
        "executionInfo": {
          "status": "ok",
          "timestamp": 1533189765828,
          "user_tz": -330,
          "elapsed": 983,
          "user": {
            "displayName": "mohan vamsi",
            "photoUrl": "//lh3.googleusercontent.com/-H0mIvmQlpQE/AAAAAAAAAAI/AAAAAAAAAF0/4uLmMATMtAc/s50-c-k-no/photo.jpg",
            "userId": "100784954602535716573"
          }
        }
      },
      "cell_type": "code",
      "source": [
        "predict"
      ],
      "execution_count": 123,
      "outputs": [
        {
          "output_type": "execute_result",
          "data": {
            "text/plain": [
              "array([[0.99880505],\n",
              "       [0.99917454],\n",
              "       [0.92186403],\n",
              "       ...,\n",
              "       [0.05205278],\n",
              "       [0.8118173 ],\n",
              "       [0.        ]], dtype=float32)"
            ]
          },
          "metadata": {
            "tags": []
          },
          "execution_count": 123
        }
      ]
    },
    {
      "metadata": {
        "id": "b94JZtDZScu9",
        "colab_type": "code",
        "colab": {
          "autoexec": {
            "startup": false,
            "wait_interval": 0
          }
        }
      },
      "cell_type": "code",
      "source": [
        "df1=pd.DataFrame(key,columns=['key'])"
      ],
      "execution_count": 0,
      "outputs": []
    },
    {
      "metadata": {
        "id": "7WBXfNgEScvA",
        "colab_type": "code",
        "colab": {
          "autoexec": {
            "startup": false,
            "wait_interval": 0
          }
        }
      },
      "cell_type": "code",
      "source": [
        "df2=pd.DataFrame(predict,columns=['score'])"
      ],
      "execution_count": 0,
      "outputs": []
    },
    {
      "metadata": {
        "id": "c6L58G4iScvD",
        "colab_type": "code",
        "colab": {
          "autoexec": {
            "startup": false,
            "wait_interval": 0
          },
          "base_uri": "https://localhost:8080/",
          "height": 136
        },
        "outputId": "d855f372-2bd1-4905-8546-9a9916a8e878",
        "executionInfo": {
          "status": "ok",
          "timestamp": 1533189769188,
          "user_tz": -330,
          "elapsed": 1038,
          "user": {
            "displayName": "mohan vamsi",
            "photoUrl": "//lh3.googleusercontent.com/-H0mIvmQlpQE/AAAAAAAAAAI/AAAAAAAAAF0/4uLmMATMtAc/s50-c-k-no/photo.jpg",
            "userId": "100784954602535716573"
          }
        }
      },
      "cell_type": "code",
      "source": [
        "predict"
      ],
      "execution_count": 126,
      "outputs": [
        {
          "output_type": "execute_result",
          "data": {
            "text/plain": [
              "array([[0.99880505],\n",
              "       [0.99917454],\n",
              "       [0.92186403],\n",
              "       ...,\n",
              "       [0.05205278],\n",
              "       [0.8118173 ],\n",
              "       [0.        ]], dtype=float32)"
            ]
          },
          "metadata": {
            "tags": []
          },
          "execution_count": 126
        }
      ]
    },
    {
      "metadata": {
        "id": "JfXz44AKScvH",
        "colab_type": "code",
        "colab": {
          "autoexec": {
            "startup": false,
            "wait_interval": 0
          }
        }
      },
      "cell_type": "code",
      "source": [
        "output=pd.concat([df1,df2],axis=1)"
      ],
      "execution_count": 0,
      "outputs": []
    },
    {
      "metadata": {
        "id": "3xsiARSpScvK",
        "colab_type": "code",
        "colab": {
          "autoexec": {
            "startup": false,
            "wait_interval": 0
          },
          "base_uri": "https://localhost:8080/",
          "height": 204
        },
        "outputId": "1b5eafe3-f28d-46b5-9f42-5aa9b2733791",
        "executionInfo": {
          "status": "ok",
          "timestamp": 1533189771356,
          "user_tz": -330,
          "elapsed": 963,
          "user": {
            "displayName": "mohan vamsi",
            "photoUrl": "//lh3.googleusercontent.com/-H0mIvmQlpQE/AAAAAAAAAAI/AAAAAAAAAF0/4uLmMATMtAc/s50-c-k-no/photo.jpg",
            "userId": "100784954602535716573"
          }
        }
      },
      "cell_type": "code",
      "source": [
        "output.head()"
      ],
      "execution_count": 128,
      "outputs": [
        {
          "output_type": "execute_result",
          "data": {
            "text/html": [
              "<div>\n",
              "<style scoped>\n",
              "    .dataframe tbody tr th:only-of-type {\n",
              "        vertical-align: middle;\n",
              "    }\n",
              "\n",
              "    .dataframe tbody tr th {\n",
              "        vertical-align: top;\n",
              "    }\n",
              "\n",
              "    .dataframe thead th {\n",
              "        text-align: right;\n",
              "    }\n",
              "</style>\n",
              "<table border=\"1\" class=\"dataframe\">\n",
              "  <thead>\n",
              "    <tr style=\"text-align: right;\">\n",
              "      <th></th>\n",
              "      <th>key</th>\n",
              "      <th>score</th>\n",
              "    </tr>\n",
              "  </thead>\n",
              "  <tbody>\n",
              "    <tr>\n",
              "      <th>0</th>\n",
              "      <td>258918</td>\n",
              "      <td>0.998805</td>\n",
              "    </tr>\n",
              "    <tr>\n",
              "      <th>1</th>\n",
              "      <td>258134</td>\n",
              "      <td>0.999175</td>\n",
              "    </tr>\n",
              "    <tr>\n",
              "      <th>2</th>\n",
              "      <td>165265</td>\n",
              "      <td>0.921864</td>\n",
              "    </tr>\n",
              "    <tr>\n",
              "      <th>3</th>\n",
              "      <td>522141</td>\n",
              "      <td>0.999944</td>\n",
              "    </tr>\n",
              "    <tr>\n",
              "      <th>4</th>\n",
              "      <td>569662</td>\n",
              "      <td>1.000000</td>\n",
              "    </tr>\n",
              "  </tbody>\n",
              "</table>\n",
              "</div>"
            ],
            "text/plain": [
              "      key     score\n",
              "0  258918  0.998805\n",
              "1  258134  0.999175\n",
              "2  165265  0.921864\n",
              "3  522141  0.999944\n",
              "4  569662  1.000000"
            ]
          },
          "metadata": {
            "tags": []
          },
          "execution_count": 128
        }
      ]
    },
    {
      "metadata": {
        "id": "hTulvCTJScvO",
        "colab_type": "code",
        "colab": {
          "autoexec": {
            "startup": false,
            "wait_interval": 0
          },
          "base_uri": "https://localhost:8080/",
          "height": 204
        },
        "outputId": "48909cbb-acf3-4a8f-be98-cf239a32726a",
        "executionInfo": {
          "status": "ok",
          "timestamp": 1533189772445,
          "user_tz": -330,
          "elapsed": 972,
          "user": {
            "displayName": "mohan vamsi",
            "photoUrl": "//lh3.googleusercontent.com/-H0mIvmQlpQE/AAAAAAAAAAI/AAAAAAAAAF0/4uLmMATMtAc/s50-c-k-no/photo.jpg",
            "userId": "100784954602535716573"
          }
        }
      },
      "cell_type": "code",
      "source": [
        "output.tail()"
      ],
      "execution_count": 129,
      "outputs": [
        {
          "output_type": "execute_result",
          "data": {
            "text/html": [
              "<div>\n",
              "<style scoped>\n",
              "    .dataframe tbody tr th:only-of-type {\n",
              "        vertical-align: middle;\n",
              "    }\n",
              "\n",
              "    .dataframe tbody tr th {\n",
              "        vertical-align: top;\n",
              "    }\n",
              "\n",
              "    .dataframe thead th {\n",
              "        text-align: right;\n",
              "    }\n",
              "</style>\n",
              "<table border=\"1\" class=\"dataframe\">\n",
              "  <thead>\n",
              "    <tr style=\"text-align: right;\">\n",
              "      <th></th>\n",
              "      <th>key</th>\n",
              "      <th>score</th>\n",
              "    </tr>\n",
              "  </thead>\n",
              "  <tbody>\n",
              "    <tr>\n",
              "      <th>174298</th>\n",
              "      <td>235526</td>\n",
              "      <td>0.010147</td>\n",
              "    </tr>\n",
              "    <tr>\n",
              "      <th>174299</th>\n",
              "      <td>458737</td>\n",
              "      <td>0.000000</td>\n",
              "    </tr>\n",
              "    <tr>\n",
              "      <th>174300</th>\n",
              "      <td>409853</td>\n",
              "      <td>0.052053</td>\n",
              "    </tr>\n",
              "    <tr>\n",
              "      <th>174301</th>\n",
              "      <td>77486</td>\n",
              "      <td>0.811817</td>\n",
              "    </tr>\n",
              "    <tr>\n",
              "      <th>174302</th>\n",
              "      <td>180674</td>\n",
              "      <td>0.000000</td>\n",
              "    </tr>\n",
              "  </tbody>\n",
              "</table>\n",
              "</div>"
            ],
            "text/plain": [
              "           key     score\n",
              "174298  235526  0.010147\n",
              "174299  458737  0.000000\n",
              "174300  409853  0.052053\n",
              "174301   77486  0.811817\n",
              "174302  180674  0.000000"
            ]
          },
          "metadata": {
            "tags": []
          },
          "execution_count": 129
        }
      ]
    },
    {
      "metadata": {
        "id": "yCp_OqMjScvb",
        "colab_type": "code",
        "colab": {
          "autoexec": {
            "startup": false,
            "wait_interval": 0
          }
        }
      },
      "cell_type": "code",
      "source": [
        "output.to_csv('output1.csv',index=False)"
      ],
      "execution_count": 0,
      "outputs": []
    },
    {
      "metadata": {
        "id": "HeKF7c7dScvf",
        "colab_type": "code",
        "colab": {
          "autoexec": {
            "startup": false,
            "wait_interval": 0
          }
        }
      },
      "cell_type": "code",
      "source": [
        "from google.colab import files\n",
        "files.download('output1.csv') "
      ],
      "execution_count": 0,
      "outputs": []
    }
  ]
}